{
 "cells": [
  {
   "cell_type": "code",
   "execution_count": 2,
   "id": "c096230a",
   "metadata": {},
   "outputs": [],
   "source": [
    "import numpy as np \n",
    "import pandas as pd \n",
    "import os\n",
    "import random\n",
    "import itertools\n",
    "import cv2\n",
    "import matplotlib.pyplot as plt\n",
    "from tqdm import tqdm\n",
    "import math\n",
    "import tensorflow as tf\n",
    "from tensorflow import keras"
   ]
  },
  {
   "cell_type": "code",
   "execution_count": 1,
   "id": "c4009fc3",
   "metadata": {},
   "outputs": [],
   "source": [
    "from keras.models import load_model\n",
    "model = load_model('./vgg16_1.h5')"
   ]
  },
  {
   "cell_type": "code",
   "execution_count": 52,
   "id": "3fc57237",
   "metadata": {},
   "outputs": [],
   "source": [
    "from PIL import Image\n",
    "path='C:/Users/Ajay/Downloads/example/normal.jpg'\n",
    "img_arr=cv2.imread(path)"
   ]
  },
  {
   "cell_type": "code",
   "execution_count": 53,
   "id": "9444cf99",
   "metadata": {},
   "outputs": [],
   "source": [
    "img_arr = cv2.resize(img_arr,(224,224))     # resize image to match model's expected sizing\n",
    "img = np.reshape(img_arr,[1,224,224,3])"
   ]
  },
  {
   "cell_type": "code",
   "execution_count": 54,
   "id": "aeb01195",
   "metadata": {},
   "outputs": [
    {
     "name": "stdout",
     "output_type": "stream",
     "text": [
      "1/1 [==============================] - 0s 121ms/step\n"
     ]
    },
    {
     "data": {
      "text/plain": [
       "array([[0.0000000e+00, 7.5876607e-38, 4.5274221e-19, 6.3111520e-25,\n",
       "        1.0000000e+00]], dtype=float32)"
      ]
     },
     "execution_count": 54,
     "metadata": {},
     "output_type": "execute_result"
    }
   ],
   "source": [
    "ans=model.predict(img)\n",
    "ans"
   ]
  },
  {
   "cell_type": "code",
   "execution_count": 55,
   "id": "d4e06ea4",
   "metadata": {},
   "outputs": [
    {
     "name": "stdout",
     "output_type": "stream",
     "text": [
      "4\n"
     ]
    }
   ],
   "source": [
    "predicted_class_idx=np.argmax(ans,axis=1)\n",
    "\n",
    "## print the same 5 rows\n",
    "\n",
    "print(predicted_class_idx[0])"
   ]
  },
  {
   "cell_type": "code",
   "execution_count": 56,
   "id": "a11729c0",
   "metadata": {},
   "outputs": [],
   "source": [
    "classes = ['Cataract','Glaucoma','hypertension','myopia','Normal']\n",
    "pred_labels = [classes[key] for key in predicted_class_idx]"
   ]
  },
  {
   "cell_type": "code",
   "execution_count": 57,
   "id": "34e90fa2",
   "metadata": {},
   "outputs": [
    {
     "data": {
      "text/plain": [
       "'Normal'"
      ]
     },
     "execution_count": 57,
     "metadata": {},
     "output_type": "execute_result"
    }
   ],
   "source": [
    "pred_labels[0]"
   ]
  },
  {
   "cell_type": "code",
   "execution_count": null,
   "id": "86ab3453",
   "metadata": {},
   "outputs": [],
   "source": []
  }
 ],
 "metadata": {
  "kernelspec": {
   "display_name": "Python 3 (ipykernel)",
   "language": "python",
   "name": "python3"
  },
  "language_info": {
   "codemirror_mode": {
    "name": "ipython",
    "version": 3
   },
   "file_extension": ".py",
   "mimetype": "text/x-python",
   "name": "python",
   "nbconvert_exporter": "python",
   "pygments_lexer": "ipython3",
   "version": "3.9.12"
  }
 },
 "nbformat": 4,
 "nbformat_minor": 5
}
